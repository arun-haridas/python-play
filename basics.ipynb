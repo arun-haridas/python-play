{
 "cells": [
  {
   "cell_type": "code",
   "execution_count": 9,
   "id": "a8dd5938",
   "metadata": {},
   "outputs": [
    {
     "name": "stdout",
     "output_type": "stream",
     "text": [
      "Hello, Python!\n",
      "3.0\n"
     ]
    }
   ],
   "source": [
    "#Python Basics\n",
    "print(\"Hello, Python!\")\n",
    "print(1.5+1.5)"
   ]
  },
  {
   "cell_type": "code",
   "execution_count": 8,
   "id": "f7cf723e",
   "metadata": {},
   "outputs": [
    {
     "name": "stdout",
     "output_type": "stream",
     "text": [
      "axbycz\n"
     ]
    }
   ],
   "source": [
    "#Merge two strings by alternating characters\n",
    "str1 = \"abc\"\n",
    "str2 = 'xyz'\n",
    "res=\"\"\n",
    "for i in range(len(str1) if len(str1)> len(str2) else len(str2)):\n",
    "   if(i < len(str1)):\n",
    "       res+=str1[i]\n",
    "   if(i < len(str2)):\n",
    "       res+=str2[i]\n",
    "print(res)\n",
    "   "
   ]
  },
  {
   "cell_type": "code",
   "execution_count": null,
   "id": "3bb92416",
   "metadata": {},
   "outputs": [
    {
     "name": "stdout",
     "output_type": "stream",
     "text": [
      "['e', 'o']\n",
      "holle\n"
     ]
    }
   ],
   "source": [
    "#345Reverse vowel of a string (leetcode 75 - medium)\n",
    "s=\"hello\"\n",
    "vowels =['a','e','i','o','u','A','E','I','O','U']\n",
    "v=[]\n",
    "ret=\"\"\n",
    "for i in range(len(s)):\n",
    "    if s[i] in  vowels: \n",
    "        v.append(s[i])\n",
    "# v.reverse()\n",
    "print(v)\n",
    "for i in range(len(s)):\n",
    "    \n",
    "    if s[i] in vowels :\n",
    "        ret+= v.pop()\n",
    "    else:\n",
    "        ret+=s[i]           \n",
    "\n",
    "print(ret)"
   ]
  }
 ],
 "metadata": {
  "kernelspec": {
   "display_name": ".venv (3.12.3)",
   "language": "python",
   "name": "python3"
  },
  "language_info": {
   "codemirror_mode": {
    "name": "ipython",
    "version": 3
   },
   "file_extension": ".py",
   "mimetype": "text/x-python",
   "name": "python",
   "nbconvert_exporter": "python",
   "pygments_lexer": "ipython3",
   "version": "3.12.3"
  }
 },
 "nbformat": 4,
 "nbformat_minor": 5
}
