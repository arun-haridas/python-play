{
 "cells": [
  {
   "cell_type": "code",
   "execution_count": 1,
   "id": "a8dd5938",
   "metadata": {},
   "outputs": [
    {
     "name": "stdout",
     "output_type": "stream",
     "text": [
      "Hello, Python!\n",
      "2\n"
     ]
    }
   ],
   "source": [
    "#Python Basics\n",
    "print(\"Hello, Python!\")\n",
    "print(1+1)"
   ]
  },
  {
   "cell_type": "code",
   "execution_count": null,
   "id": "f7cf723e",
   "metadata": {},
   "outputs": [
    {
     "name": "stdout",
     "output_type": "stream",
     "text": [
      "axbycz\n"
     ]
    }
   ],
   "source": [
    "#Merge two strings by alternating characters\n",
    "str1 = \"abc\"\n",
    "str2 = 'xyz'\n",
    "res=\"\"\n",
    "for i in range(len(str1)):\n",
    "    res+=str1[i]+str2[i]\n",
    "print(res)\n",
    "   "
   ]
  }
 ],
 "metadata": {
  "kernelspec": {
   "display_name": ".venv (3.12.3)",
   "language": "python",
   "name": "python3"
  },
  "language_info": {
   "codemirror_mode": {
    "name": "ipython",
    "version": 3
   },
   "file_extension": ".py",
   "mimetype": "text/x-python",
   "name": "python",
   "nbconvert_exporter": "python",
   "pygments_lexer": "ipython3",
   "version": "3.12.3"
  }
 },
 "nbformat": 4,
 "nbformat_minor": 5
}
