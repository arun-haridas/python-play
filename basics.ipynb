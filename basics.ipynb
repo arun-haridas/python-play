{
 "cells": [
  {
   "cell_type": "code",
   "execution_count": 9,
   "id": "a8dd5938",
   "metadata": {},
   "outputs": [
    {
     "name": "stdout",
     "output_type": "stream",
     "text": [
      "Hello, Python!\n",
      "3.0\n"
     ]
    }
   ],
   "source": [
    "#Python Basics\n",
    "print(\"Hello, Python!\")\n",
    "print(1.5+1.5)"
   ]
  },
  {
   "cell_type": "code",
   "execution_count": 8,
   "id": "f7cf723e",
   "metadata": {},
   "outputs": [
    {
     "name": "stdout",
     "output_type": "stream",
     "text": [
      "axbycz\n"
     ]
    }
   ],
   "source": [
    "#Merge two strings by alternating characters\n",
    "str1 = \"abc\"\n",
    "str2 = 'xyz'\n",
    "res=\"\"\n",
    "for i in range(len(str1) if len(str1)> len(str2) else len(str2)):\n",
    "   if(i < len(str1)):\n",
    "       res+=str1[i]\n",
    "   if(i < len(str2)):\n",
    "       res+=str2[i]\n",
    "print(res)\n",
    "   "
   ]
  },
  {
   "cell_type": "code",
   "execution_count": null,
   "id": "3bb92416",
   "metadata": {},
   "outputs": [
    {
     "name": "stdout",
     "output_type": "stream",
     "text": [
      "['e', 'o']\n",
      "holle\n"
     ]
    }
   ],
   "source": [
    "#345Reverse vowel of a string (leetcode 75 - medium)\n",
    "s=\"hello\"\n",
    "vowels =['a','e','i','o','u','A','E','I','O','U']\n",
    "v=[]\n",
    "ret=\"\"\n",
    "for i in range(len(s)):\n",
    "    if s[i] in  vowels: \n",
    "        v.append(s[i])\n",
    "# v.reverse()\n",
    "print(v)\n",
    "for i in range(len(s)):\n",
    "    \n",
    "    if s[i] in vowels :\n",
    "        ret+= v.pop()\n",
    "    else:\n",
    "        ret+=s[i]           \n",
    "\n",
    "print(ret)"
   ]
  },
  {
   "cell_type": "code",
   "execution_count": 5,
   "id": "3e19d507",
   "metadata": {},
   "outputs": [
    {
     "name": "stdout",
     "output_type": "stream",
     "text": [
      "blue is sky the\n",
      "world hello\n"
     ]
    }
   ],
   "source": [
    "#151. Reverse Words in a String\n",
    "\n",
    "def reverseWords(self, s: str) -> str:\n",
    "        ret=\"\"\n",
    "        ret=s.split()\n",
    "        ret.reverse()\n",
    "        return \" \".join(ret)\n",
    "print(reverseWords(0,\"the sky is blue\"))\n",
    "print(reverseWords(0,\"  hello world  \"))\n",
    "\n"
   ]
  },
  {
   "cell_type": "code",
   "execution_count": null,
   "id": "2dac25f0",
   "metadata": {},
   "outputs": [
    {
     "name": "stdout",
     "output_type": "stream",
     "text": [
      "True\n",
      "False\n",
      "True\n"
     ]
    }
   ],
   "source": [
    "# 334. Increasing Triplet Subsequence ( Leetcode 75 - Medium)\n",
    "\n",
    "import sys\n",
    "from typing import List\n",
    "def increasingTriplet(self, nums: List[int]) -> bool:\n",
    "    for i in range(0,len(nums)-1):\n",
    "         if nums[i] < nums[i+1] < nums[i+2]:\n",
    "            return True\n",
    "    return False\n",
    "print(increasingTriplet(0,[1,2,3,4,5]))\n",
    "print(increasingTriplet(0,[5,4,3,2,1]))\n",
    "print(increasingTriplet(0,[2,1,5,0,4,6]))"
   ]
  },
  {
   "cell_type": "code",
   "execution_count": null,
   "id": "89149980",
   "metadata": {},
   "outputs": [],
   "source": []
  },
  {
   "cell_type": "code",
   "execution_count": 3,
   "id": "96ab6981",
   "metadata": {},
   "outputs": [
    {
     "name": "stdout",
     "output_type": "stream",
     "text": [
      "5 10\n",
      "10 5\n"
     ]
    }
   ],
   "source": [
    "#Swap two numners\n",
    "a=5\n",
    "b=10\n",
    "print(a,b)\n",
    "a=a+b\n",
    "b=a-b\n",
    "a=a-b\n",
    "print(a,b)"
   ]
  },
  {
   "cell_type": "code",
   "execution_count": null,
   "id": "16c86e41",
   "metadata": {},
   "outputs": [],
   "source": [
    "int  a=[2,3,1,1,4,4,1,2,3,5,5,6,7,8,9]\n",
    "for i in range(len(a))\n"
   ]
  }
 ],
 "metadata": {
  "kernelspec": {
   "display_name": ".venv (3.12.3)",
   "language": "python",
   "name": "python3"
  },
  "language_info": {
   "codemirror_mode": {
    "name": "ipython",
    "version": 3
   },
   "file_extension": ".py",
   "mimetype": "text/x-python",
   "name": "python",
   "nbconvert_exporter": "python",
   "pygments_lexer": "ipython3",
   "version": "3.12.3"
  }
 },
 "nbformat": 4,
 "nbformat_minor": 5
}
